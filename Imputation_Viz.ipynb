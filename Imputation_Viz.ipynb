{
 "cells": [
  {
   "cell_type": "markdown",
   "id": "4466bfe0",
   "metadata": {
    "toc": true
   },
   "source": [
    "<h1>Table of Contents<span class=\"tocSkip\"></span></h1>\n",
    "<div class=\"toc\"><ul class=\"toc-item\"><li><span><a href=\"#A-toy-exmple-to-visualize-the-imputation-results\" data-toc-modified-id=\"A-toy-exmple-to-visualize-the-imputation-results-1\"><span class=\"toc-item-num\">1&nbsp;&nbsp;</span>A toy exmple to visualize the imputation results</a></span></li></ul></div>"
   ]
  },
  {
   "cell_type": "markdown",
   "id": "25a3469f",
   "metadata": {},
   "source": [
    "### A toy exmple to visualize the imputation results"
   ]
  },
  {
   "cell_type": "code",
   "execution_count": 1,
   "id": "3dd7f8e9",
   "metadata": {},
   "outputs": [],
   "source": [
    "import copy\n",
    "import os\n",
    "import numpy as np\n",
    "import matplotlib.pyplot as plt\n",
    "plt.rcParams['font.family'] = 'arial'\n",
    "plt.rcParams['svg.fonttype'] = 'none'"
   ]
  },
  {
   "cell_type": "markdown",
   "id": "610948f5",
   "metadata": {},
   "source": [
    "The model output and corresponding labels should be imported first, e.g.,  \n",
    "\n",
    "y_hat, y_true, mask = run_experiment(args)"
   ]
  },
  {
   "cell_type": "markdown",
   "id": "4f55da09",
   "metadata": {},
   "source": [
    "Then using the following codes to generate the plot."
   ]
  },
  {
   "cell_type": "code",
   "execution_count": null,
   "id": "2691bd2c",
   "metadata": {},
   "outputs": [],
   "source": [
    "y_hat_mat = y_hat.reshape(-1, 170,order='F')\n",
    "y_true_mat = y_true.reshape(-1, 170,order='F')\n",
    "mask_mat = mask.reshape(-1, 170,order='F')\n",
    "\n",
    "sensor = 13\n",
    "step = 144\n",
    "day = 7\n",
    "dataplot = y_true_mat[step:step+288*day, sensor]\n",
    "imputed = y_hat_mat[step:step+288*day, sensor]\n",
    "maskplot = mask_mat[step:step+288*day, sensor]\n",
    "observations = dataplot.copy()\n",
    "observations[np.where(maskplot==1)]=np.nan\n",
    "\n",
    "plt.figure(figsize=(7,2))\n",
    "plt.rcParams['xtick.direction'] = 'in'\n",
    "plt.rcParams['ytick.direction'] = 'in'\n",
    "plt.grid(linestyle='--',alpha=0.6)\n",
    "plt.tick_params(labelsize=12)\n",
    "plt.xlim(0,288*7)\n",
    "plt.ylim(0,650)\n",
    "plt.plot(dataplot,label = 'GroundTruth',linewidth=1,color = 'purple',alpha=0.5)\n",
    "plt.plot(imputed,label = 'Imputation',linewidth=1.5,color = 'orange',alpha=0.8)\n",
    "plt.plot(observations,'ko',label ='Observation',alpha=0.6,markersize = .5)\n",
    "plt.xlabel('Sensor No.'+str(sensor),fontsize=13)\n",
    "plt.ylabel('Volume',fontsize=13)\n",
    "axis = plt.gca()\n",
    "axis.set_xticks([i*288 for i in range(1,8)])\n",
    "axis.set_xticklabels(['Day.'+str(i) for i in range(1,8)],ha='right',fontsize=11)\n",
    "plt.title(f'PEMS08 with {int(100*args.p_noise)}% point missing')\n",
    "plt.legend()"
   ]
  }
 ],
 "metadata": {
  "kernelspec": {
   "display_name": "Python 3 (ipykernel)",
   "language": "python",
   "name": "python3"
  },
  "language_info": {
   "codemirror_mode": {
    "name": "ipython",
    "version": 3
   },
   "file_extension": ".py",
   "mimetype": "text/x-python",
   "name": "python",
   "nbconvert_exporter": "python",
   "pygments_lexer": "ipython3",
   "version": "3.8.16"
  },
  "toc": {
   "base_numbering": 1,
   "nav_menu": {},
   "number_sections": true,
   "sideBar": false,
   "skip_h1_title": true,
   "title_cell": "Table of Contents",
   "title_sidebar": "Contents",
   "toc_cell": true,
   "toc_position": {},
   "toc_section_display": true,
   "toc_window_display": false
  }
 },
 "nbformat": 4,
 "nbformat_minor": 5
}
